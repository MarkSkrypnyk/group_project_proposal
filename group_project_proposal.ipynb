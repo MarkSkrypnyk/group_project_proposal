{
 "cells": [
  {
   "cell_type": "code",
   "execution_count": null,
   "id": "ae58d6e5-a1cd-4201-a27f-f0dd3b63ea32",
   "metadata": {},
   "outputs": [],
   "source": []
  }
 ],
 "metadata": {
  "kernelspec": {
   "display_name": "R",
   "language": "R",
   "name": "ir"
  },
  "language_info": {
   "codemirror_mode": "r",
   "file_extension": ".r",
   "mimetype": "text/x-r-source",
   "name": "R",
   "pygments_lexer": "r",
   "version": "4.3.1"
  }
 },
 "nbformat": 4,
 "nbformat_minor": 5
}
