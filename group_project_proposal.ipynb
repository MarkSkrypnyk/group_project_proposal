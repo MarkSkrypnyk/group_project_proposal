{
 "cells": [
  {
   "cell_type": "markdown",
   "id": "24da287d-3b18-46d5-95a0-762dbfa2804d",
   "metadata": {},
   "source": [
    "# Tech Support Scams: Warning Signs of a Fraudulent Website"
   ]
  },
  {
   "cell_type": "markdown",
   "id": "7bc91a1c-6714-4479-874a-544734e4919d",
   "metadata": {},
   "source": [
    "### Introduction:"
   ]
  },
  {
   "cell_type": "markdown",
   "id": "b257bd52-d4c5-479a-b7e8-2318b585d645",
   "metadata": {},
   "source": [
    "Lorem ipsum dolor sit amet, consectetur adipiscing elit. Morbi condimentum vel tortor eget gravida. Quisque vel augue id enim \n",
    "consequat facilisis varius nec est. Morbi sodales purus at rhoncus mattis. Ut mauris nibh, rhoncus sit amet gravida porttitor, \n",
    "finibus tristique lorem. Vestibulum pellentesque, dui varius laoreet mattis, lorem ex egestas orci, interdum lobortis ipsum lorem \n",
    "eget sem. Nulla sagittis sit amet turpis quis cursus. Nulla imperdiet, neque cursus suscipit mattis, dolor ipsum dictum orci, ac \n",
    "pellentesque felis dolor vitae quam. Proin porttitor elit sem, at fringilla lorem pharetra quis. Quisque eu justo eget enim \n",
    "ullamcorper posuere a quis tellus. Pellentesque sit amet pellentesque erat, at malesuada nibh."
   ]
  },
  {
   "cell_type": "markdown",
   "id": "02ecd108-0c3e-475a-8700-0429a16a15e9",
   "metadata": {},
   "source": [
    "### Preliminary exploratory data analysis:"
   ]
  },
  {
   "cell_type": "markdown",
   "id": "cbf2bdda-ff3a-440c-beb5-0ecf53e22d7a",
   "metadata": {},
   "source": [
    "Lorem ipsum dolor sit amet, consectetur adipiscing elit. Phasellus in magna mi. Donec posuere dignissim lacus, sodales iaculis velit hendrerit in. Nullam quam neque, aliquet non nibh at, maximus finibus turpis. Nunc hendrerit, nisi volutpat aliquam euismod, nisi ante facilisis nunc, at malesuada nulla massa nec ante. Nullam convallis congue mi ut luctus. Sed id accumsan lectus. Aliquam eget odio nisi. Sed sed vestibulum lacus. Donec suscipit lobortis magna ut mollis. Nullam iaculis lectus condimentum pellentesque suscipit. Etiam efficitur felis ultrices nulla congue, non congue libero hendrerit. Ut iaculis neque id consectetur malesuada. Ut varius, orci vel rhoncus laoreet, urna mi accumsan nisl, at convallis felis ligula sed tellus."
   ]
  },
  {
   "cell_type": "markdown",
   "id": "1596290d-4316-4a7b-8659-f8867eae81d7",
   "metadata": {},
   "source": [
    "### Methods:"
   ]
  },
  {
   "cell_type": "markdown",
   "id": "9ad1191d-ff35-4e85-97b7-2378cd9640f3",
   "metadata": {},
   "source": [
    "Lorem ipsum dolor sit amet, consectetur adipiscing elit. Sed et dignissim elit. Fusce metus nunc, tristique vitae risus nec, aliquet vehicula arcu. Nam vehicula dui eros, ac vulputate dolor tincidunt at. Curabitur convallis consequat lorem a venenatis. Donec et urna nisl. Aenean pellentesque lorem et fringilla efficitur. Curabitur sed lacinia justo. Nulla facilisi. Morbi mauris turpis, finibus a vestibulum id, pharetra ut ex. Pellentesque ornare, lectus at ornare pharetra, mauris orci condimentum massa, nec mattis neque felis accumsan est. Aliquam eget nisl mauris. Vivamus pulvinar vulputate feugiat."
   ]
  },
  {
   "cell_type": "markdown",
   "id": "ca234e0f-5bbe-4668-86fb-444714fc7d6e",
   "metadata": {},
   "source": [
    "### Expected outcomes and significance:"
   ]
  },
  {
   "cell_type": "markdown",
   "id": "b3531b36-f9e6-4037-bea1-d00a33878de3",
   "metadata": {},
   "source": [
    "Lorem ipsum dolor sit amet, consectetur adipiscing elit. Quisque sed est luctus ante vehicula varius. Suspendisse eu neque faucibus, tristique quam eget, placerat enim. Etiam at nibh finibus, rutrum purus eu, hendrerit metus. Sed eget diam id tellus sollicitudin congue a sit amet arcu. Nam nec diam ipsum. Ut dapibus vestibulum lorem. Integer nec urna ut nibh cursus facilisis. Nullam in metus mattis metus bibendum fermentum id in nulla. Sed urna nisi, fringilla a suscipit sit amet, faucibus non justo. Aliquam convallis, risus quis efficitur molestie, libero lacus interdum est, at dictum ipsum dolor quis massa. Fusce ac ultrices eros. Etiam vel lacinia urna. Sed vel dui pharetra, gravida erat at, faucibus ligula."
   ]
  }
 ],
 "metadata": {
  "kernelspec": {
   "display_name": "R",
   "language": "R",
   "name": "ir"
  },
  "language_info": {
   "codemirror_mode": "r",
   "file_extension": ".r",
   "mimetype": "text/x-r-source",
   "name": "R",
   "pygments_lexer": "r",
   "version": "4.3.1"
  }
 },
 "nbformat": 4,
 "nbformat_minor": 5
}
